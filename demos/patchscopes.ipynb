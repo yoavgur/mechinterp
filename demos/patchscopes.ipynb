{
 "cells": [
  {
   "cell_type": "code",
   "execution_count": 21,
   "metadata": {},
   "outputs": [],
   "source": [
    "import torch\n",
    "from transformer_lens import HookedTransformer\n",
    "from mechinterp import Interpreter\n",
    "from mechinterp.utils import PatchscopesTargetPrompts"
   ]
  },
  {
   "cell_type": "code",
   "execution_count": 2,
   "metadata": {},
   "outputs": [
    {
     "name": "stderr",
     "output_type": "stream",
     "text": [
      "WARNING:root:You tried to specify center_unembed=True for a model using logit softcap, but this can't be done! Softcapping is not invariant upon adding a constantSetting center_unembed=False instead.\n",
      "Loading checkpoint shards: 100%|██████████| 3/3 [00:00<00:00,  5.86it/s]\n",
      "WARNING:root:You are not using LayerNorm, so the writing weights can't be centered! Skipping\n"
     ]
    },
    {
     "name": "stdout",
     "output_type": "stream",
     "text": [
      "Loaded pretrained model google/gemma-2-2b into HookedTransformer\n"
     ]
    }
   ],
   "source": [
    "model = HookedTransformer.from_pretrained(\"google/gemma-2-2b\")\n",
    "interp = Interpreter(model)"
   ]
  },
  {
   "cell_type": "markdown",
   "metadata": {},
   "source": [
    "### Replicating the Jeff Bezos example from the paper"
   ]
  },
  {
   "cell_type": "code",
   "execution_count": 3,
   "metadata": {},
   "outputs": [],
   "source": [
    "jeff = model.run_with_cache(\"Amazon's former CEO attended the Oscars\")[1][\"blocks.19.hook_resid_pre\"][0, 5]"
   ]
  },
  {
   "cell_type": "code",
   "execution_count": 4,
   "metadata": {},
   "outputs": [
    {
     "data": {
      "text/plain": [
       "Logit Lens Output:\n",
       "\t- Topk tokens: [' and', ',', ' Amazon', 'Amazon', ' CEO', ' amazon', ' has', ' السابق', ' fondateur', ' chief', ' turned', ' in', ' famously', ' company', ' founder', ' who', ' emeritus', ' says', ' now', ' business']\n",
       "\n",
       "\t- Bottomk tokens: ['########.', ' AssemblyCulture', 'findpost', '<bos>', ' @\"/', 'styleType', '+:+', ' typelib', \")':\", 'uxxxx', ' CreateTagHelper', 'Datuak', 'MigrationBuilder', ' Reverso', 'ANSA', ' للمعارف', 'UnsafeEnabled', ' ModelExpression', 'esgue', 'ỡng']"
      ]
     },
     "execution_count": 4,
     "metadata": {},
     "output_type": "execute_result"
    }
   ],
   "source": [
    "interp.logit_lens(jeff)"
   ]
  },
  {
   "cell_type": "code",
   "execution_count": 5,
   "metadata": {},
   "outputs": [
    {
     "data": {
      "text/plain": [
       "Patchscopes Explanation: '<bos>Syria: Country in the Middle East\n",
       "Leonardo DiCaprio: American actor\n",
       "Samsung: South Korean multinational major appliance and consumer electronics corporation\n",
       "X: Former CEO of Amazon.'"
      ]
     },
     "execution_count": 5,
     "metadata": {},
     "output_type": "execute_result"
    }
   ],
   "source": [
    "interp.patchscopes(jeff, n=5)"
   ]
  },
  {
   "cell_type": "code",
   "execution_count": 6,
   "metadata": {},
   "outputs": [
    {
     "data": {
      "text/plain": [
       "Patchscopes Explanation: '<bos>Syria: Country in the Middle East\n",
       "Leonardo DiCaprio: American actor\n",
       "Samsung: South Korean multinational major appliance and consumer electronics corporation\n",
       "X: The head of a company'"
      ]
     },
     "execution_count": 6,
     "metadata": {},
     "output_type": "execute_result"
    }
   ],
   "source": [
    "interp.patchscopes(jeff, n=5)"
   ]
  },
  {
   "cell_type": "code",
   "execution_count": 16,
   "metadata": {},
   "outputs": [
    {
     "data": {
      "text/plain": [
       "Patchscopes Explanation: '<bos>cat -> cat\n",
       "1135 -> 1135\n",
       "hello -> hello\n",
       "X-> amazon\n",
       "'"
      ]
     },
     "execution_count": 16,
     "metadata": {},
     "output_type": "execute_result"
    }
   ],
   "source": [
    "interp.patchscopes(jeff, PatchscopesTargetPrompts.IDENTITY_FEW_SHOT, n=2, temperature=1)"
   ]
  },
  {
   "cell_type": "code",
   "execution_count": 8,
   "metadata": {},
   "outputs": [
    {
     "data": {
      "text/plain": [
       "Patchscopes Explanation: '<bos>The birth name of X is Jeff Bezos, and he is the founder of Amazon.com. He is the richest man in the world and has a net worth of $11'"
      ]
     },
     "execution_count": 8,
     "metadata": {},
     "output_type": "execute_result"
    }
   ],
   "source": [
    "interp.patchscopes(jeff, \"The birth name of {} is\")"
   ]
  },
  {
   "cell_type": "markdown",
   "metadata": {},
   "source": [
    "### Patchscopes With Two Vectors at Once"
   ]
  },
  {
   "cell_type": "code",
   "execution_count": 71,
   "metadata": {},
   "outputs": [],
   "source": [
    "steve = model.run_with_cache(\"Apple's former CEO attended the Oscars\")[1][\"blocks.21.hook_resid_pre\"][0, 5]\n",
    "elon = model.run_with_cache(\"Tesla's CEO attended the Oscars\")[1][\"blocks.21.hook_resid_pre\"][0, 4]"
   ]
  },
  {
   "cell_type": "code",
   "execution_count": 75,
   "metadata": {},
   "outputs": [
    {
     "data": {
      "text/plain": [
       "Patchscopes Explanation: '<bos>The companies founded by XX are:\n",
       "1. <strong>Tesla</strong>\n",
       "2. <strong>SpaceX</strong>\n",
       "3. <strong>SolarCity</strong>\n",
       "4. <strong>Neuralink</strong>\n",
       "5. <strong>The Boring Company</strong>\n",
       "\n",
       "The companies founded by the co-founder are:\n",
       "1. <strong>Apple</strong>\n",
       "2. <strong>NeXT</strong>\n",
       "3. <strong>AOL</strong>\n",
       "4. <strong>Pixar</strong>\n",
       "5. <strong>Cupertino</strong>\n",
       "\n",
       "The companies founded by the co-founder are:\n",
       "1.'"
      ]
     },
     "execution_count": 75,
     "metadata": {},
     "output_type": "execute_result"
    }
   ],
   "source": [
    "interp.patchscopes(torch.stack([2*steve, 0.5*elon]), \"The companies founded by {}{} are:\\n1. \", n=100)"
   ]
  }
 ],
 "metadata": {
  "kernelspec": {
   "display_name": "Python 3 (ipykernel)",
   "language": "python",
   "name": "python3"
  },
  "language_info": {
   "codemirror_mode": {
    "name": "ipython",
    "version": 3
   },
   "file_extension": ".py",
   "mimetype": "text/x-python",
   "name": "python",
   "nbconvert_exporter": "python",
   "pygments_lexer": "ipython3",
   "version": "3.12.5"
  }
 },
 "nbformat": 4,
 "nbformat_minor": 2
}
