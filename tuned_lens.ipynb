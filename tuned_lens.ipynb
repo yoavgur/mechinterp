{
 "cells": [
  {
   "cell_type": "code",
   "execution_count": 1,
   "metadata": {},
   "outputs": [],
   "source": [
    "from transformer_lens import HookedTransformer\n",
    "from mechinterp.Interpreter import Interpreter"
   ]
  },
  {
   "cell_type": "code",
   "execution_count": 7,
   "metadata": {},
   "outputs": [
    {
     "name": "stdout",
     "output_type": "stream",
     "text": [
      "Loaded pretrained model gpt2 into HookedTransformer\n"
     ]
    }
   ],
   "source": [
    "model = HookedTransformer.from_pretrained(\"gpt2\")\n",
    "interp = Interpreter(model)"
   ]
  },
  {
   "cell_type": "code",
   "execution_count": 8,
   "metadata": {},
   "outputs": [],
   "source": [
    "logits, cache = model.run_with_cache(\"It was the best of times\")"
   ]
  },
  {
   "cell_type": "code",
   "execution_count": null,
   "metadata": {},
   "outputs": [
    {
     "data": {
      "text/plain": [
       "Tuned Logit Lens Output:\n",
       "\t- Topk tokens: [' times', ' worlds', ' intentions', ' highs']\n",
       "\n",
       "\t- Bottomk tokens: ['anwhile', 'hyde', 'ividual', 'StreamerBot']"
      ]
     },
     "execution_count": 14,
     "metadata": {},
     "output_type": "execute_result"
    }
   ],
   "source": [
    "# Interpreting hidden activations\n",
    "interp.tuned_lens(cache[\"blocks.10.hook_resid_post\"][0, 5], l=10, k=4)"
   ]
  },
  {
   "cell_type": "code",
   "execution_count": 16,
   "metadata": {},
   "outputs": [
    {
     "data": {
      "text/plain": [
       "Tuned Logit Lens Output:\n",
       "\t- Topk tokens: [' dawn', ' culmination', ' hottest', ' last']\n",
       "\n",
       "\t- Bottomk tokens: ['omever', 'ambo', 'apons', 'swer']"
      ]
     },
     "execution_count": 16,
     "metadata": {},
     "output_type": "execute_result"
    }
   ],
   "source": [
    "interp.tuned_lens(cache[\"blocks.7.hook_resid_post\"][0, 3], l=7, k=4)"
   ]
  }
 ],
 "metadata": {
  "kernelspec": {
   "display_name": "Python 3 (ipykernel)",
   "language": "python",
   "name": "python3"
  }
 },
 "nbformat": 4,
 "nbformat_minor": 2
}
